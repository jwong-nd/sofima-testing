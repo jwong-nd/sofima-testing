{
 "cells": [
  {
   "cell_type": "code",
   "execution_count": 1,
   "metadata": {},
   "outputs": [],
   "source": [
    "import numpy as np\n",
    "\n",
    "import zarr_io\n",
    "import data_prep\n",
    "import coarse_registration\n",
    "\n",
    "from sofima import stitch_rigid"
   ]
  },
  {
   "cell_type": "code",
   "execution_count": 2,
   "metadata": {},
   "outputs": [
    {
     "name": "stderr",
     "output_type": "stream",
     "text": [
      "WARNING: All log messages before absl::InitializeLog() is called are written to STDERR\n",
      "I0000 00:00:1684361483.614940  215484 gcs_resource.cc:102] Using default AdmissionQueue with limit 32\n",
      "I0000 00:00:1684361483.616842  215510 google_auth_provider.cc:179] Running on GCE, using service account 895865026362-compute@developer.gserviceaccount.com\n"
     ]
    }
   ],
   "source": [
    "# Preprocess raw tiles\n",
    "bucket = 'sofima-test-bucket'\n",
    "downsampling_exp = 2\n",
    "path_0 = f'tile_X_0001_Y_0000_Z_0000_CH_0405_cam0.zarr/{downsampling_exp}'  \n",
    "path_1 = f'tile_X_0002_Y_0000_Z_0000_CH_0405_cam0.zarr/{downsampling_exp}'\n",
    "path_2 = f'tile_X_0003_Y_0000_Z_0000_CH_0405_cam0.zarr/{downsampling_exp}'\n",
    "path_3 = f'tile_X_0004_Y_0000_Z_0000_CH_0405_cam0.zarr/{downsampling_exp}'\n",
    "path_4 = f'tile_X_0005_Y_0000_Z_0000_CH_0405_cam0.zarr/{downsampling_exp}'\n",
    "path_5 = f'tile_X_0006_Y_0000_Z_0000_CH_0405_cam0.zarr/{downsampling_exp}'\n",
    "\n",
    "tile_0 = zarr_io.open_zarr(bucket, path_0)\n",
    "tile_1 = zarr_io.open_zarr(bucket, path_1)\n",
    "tile_2 = zarr_io.open_zarr(bucket, path_2)\n",
    "tile_3 = zarr_io.open_zarr(bucket, path_3)\n",
    "tile_4 = zarr_io.open_zarr(bucket, path_4)\n",
    "tile_5 = zarr_io.open_zarr(bucket, path_5)\n",
    "\n",
    "data_prep.preprocess_tiles(tile_volumes = [tile_0, \n",
    "                                           tile_1, \n",
    "                                           tile_2, \n",
    "                                           tile_3, \n",
    "                                           tile_4, \n",
    "                                           tile_5], \n",
    "                           output_names = ['preprocessed_0.zarr', \n",
    "                                           'preprocessed_1.zarr',\n",
    "                                           'preprocessed_2.zarr',\n",
    "                                           'preprocessed_3.zarr',\n",
    "                                           'preprocessed_4.zarr',\n",
    "                                           'preprocessed_5.zarr'],\n",
    "                           bucket = bucket, \n",
    "                           batch_size = 256)"
   ]
  },
  {
   "cell_type": "code",
   "execution_count": 2,
   "metadata": {},
   "outputs": [
    {
     "name": "stderr",
     "output_type": "stream",
     "text": [
      "WARNING: All log messages before absl::InitializeLog() is called are written to STDERR\n",
      "I0000 00:00:1684366142.373111  268588 gcs_resource.cc:102] Using default AdmissionQueue with limit 32\n",
      "I0000 00:00:1684366142.375145  268714 google_auth_provider.cc:179] Running on GCE, using service account 895865026362-compute@developer.gserviceaccount.com\n"
     ]
    },
    {
     "name": "stdout",
     "output_type": "stream",
     "text": [
      "Top: (0, 0), Bot: (0, 1) [ -1. 286.   4.]\n",
      "Top: (0, 1), Bot: (0, 2) [ -1. 286.   0.]\n",
      "Top: (0, 2), Bot: (0, 3) [ -1. 286.   0.]\n",
      "Top: (0, 3), Bot: (0, 4) [ -1. 284.   0.]\n",
      "Top: (0, 4), Bot: (0, 5) [ -1. 287.  -2.]\n",
      "cy=array([[[[ -1.],\n",
      "         [ -1.],\n",
      "         [ -1.],\n",
      "         [ -1.],\n",
      "         [ -1.],\n",
      "         [ nan]]],\n",
      "\n",
      "\n",
      "       [[[286.],\n",
      "         [286.],\n",
      "         [286.],\n",
      "         [284.],\n",
      "         [287.],\n",
      "         [ nan]]],\n",
      "\n",
      "\n",
      "       [[[  4.],\n",
      "         [  0.],\n",
      "         [  0.],\n",
      "         [  0.],\n",
      "         [ -2.],\n",
      "         [ nan]]]])\n"
     ]
    }
   ],
   "source": [
    "# Coarse Registration\n",
    "bucket = 'sofima-test-bucket'\n",
    "tile_0 = zarr_io.open_zarr(bucket, \"preprocessed_0.zarr\")\n",
    "tile_1 = zarr_io.open_zarr(bucket, \"preprocessed_1.zarr\")\n",
    "tile_2 = zarr_io.open_zarr(bucket, \"preprocessed_2.zarr\")\n",
    "tile_3 = zarr_io.open_zarr(bucket, \"preprocessed_3.zarr\")\n",
    "tile_4 = zarr_io.open_zarr(bucket, \"preprocessed_4.zarr\")\n",
    "tile_5 = zarr_io.open_zarr(bucket, \"preprocessed_5.zarr\")\n",
    "\n",
    "tile_layout = np.array([[0], \n",
    "                        [1],\n",
    "                        [2],\n",
    "                        [3],\n",
    "                        [4],\n",
    "                        [5]])\n",
    "tile_map = {(0, 0):0,\n",
    "            (1, 0):1,\n",
    "            (2, 0):2,\n",
    "            (3, 0):3,\n",
    "            (4, 0):4,\n",
    "            (5, 0):5}  # (ty, tx) -> id\n",
    "idx_to_coord = {0: (0, 0),\n",
    "                1: (1, 0),\n",
    "                2: (2, 0),\n",
    "                3: (3, 0),\n",
    "                4: (4, 0),\n",
    "                5: (5, 0)}\n",
    "tile_volumes = [tile_0.T[:,:,:,0,0],\n",
    "                tile_1.T[:,:,:,0,0], \n",
    "                tile_2.T[:,:,:,0,0], \n",
    "                tile_3.T[:,:,:,0,0], \n",
    "                tile_4.T[:,:,:,0,0], \n",
    "                tile_5.T[:,:,:,0,0]]  # Place X/Y dimensions in front, must have 3D\n",
    "cx, cy = coarse_registration.compute_coarse_offsets(tuple(tile_layout.shape), tile_map, tile_volumes)\n",
    "coarse_mesh = stitch_rigid.optimize_coarse_mesh(cx, cy, mesh_fn=stitch_rigid.elastic_tile_mesh_3d)\n",
    "\n",
    "# print(f'{cx=}')\n",
    "print(f'{cy=}')"
   ]
  },
  {
   "cell_type": "code",
   "execution_count": 6,
   "metadata": {},
   "outputs": [
    {
     "data": {
      "text/plain": [
       "[array([ -1., 286.,   4.]),\n",
       " array([ -2., 572.,   4.]),\n",
       " array([ -3., 858.,   4.]),\n",
       " array([  -4., 1142.,    4.]),\n",
       " array([  -5., 1429.,    2.])]"
      ]
     },
     "execution_count": 6,
     "metadata": {},
     "output_type": "execute_result"
    }
   ],
   "source": [
    "offsets = []\n",
    "for i in range(5):\n",
    "    if i == 0:\n",
    "        offsets.append(np.array(cy)[:, 0, i, 0])\n",
    "    else:\n",
    "        offsets.append(offsets[-1] + np.array(cy)[:, 0, i, 0])\n",
    "\n",
    "offsets"
   ]
  },
  {
   "attachments": {},
   "cell_type": "markdown",
   "metadata": {},
   "source": [
    "Patch Size: 25\n",
    "- Top: (0, 0), Bot: (0, 1) [ -8. 287.   7.]\n",
    "- Top: (0, 1), Bot: (0, 2) [ 24. 351.   2.]\n",
    "- Top: (0, 2), Bot: (0, 3) [ 24. 292.  13.]\n",
    "- Top: (0, 3), Bot: (0, 4) [-22. 307.  25.]\n",
    "- Top: (0, 4), Bot: (0, 5) [ -3. 287.  -2.]"
   ]
  },
  {
   "attachments": {},
   "cell_type": "markdown",
   "metadata": {},
   "source": [
    "Patch Size: 50\n",
    "- Top: (0, 0), Bot: (0, 1) [ -1. 286.   4.]\n",
    "- Top: (0, 1), Bot: (0, 2) [ -1. 286.   0.]\n",
    "- Top: (0, 2), Bot: (0, 3) [ -1. 286.   0.]\n",
    "- Top: (0, 3), Bot: (0, 4) [ -1. 284.   0.]\n",
    "- Top: (0, 4), Bot: (0, 5) [ -1. 287.  -2.]"
   ]
  }
 ],
 "metadata": {
  "kernelspec": {
   "display_name": "py311",
   "language": "python",
   "name": "python3"
  },
  "language_info": {
   "codemirror_mode": {
    "name": "ipython",
    "version": 3
   },
   "file_extension": ".py",
   "mimetype": "text/x-python",
   "name": "python",
   "nbconvert_exporter": "python",
   "pygments_lexer": "ipython3",
   "version": "3.11.3"
  },
  "orig_nbformat": 4
 },
 "nbformat": 4,
 "nbformat_minor": 2
}
