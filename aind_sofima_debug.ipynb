{
  "cells": [
    {
      "cell_type": "code",
      "execution_count": 1,
      "metadata": {
        "executionInfo": {
          "elapsed": 58,
          "status": "ok",
          "timestamp": 1684157557943,
          "user": {
            "displayName": "Michal Januszewski",
            "userId": "18354804585540279220"
          },
          "user_tz": -120
        },
        "id": "jl9-2XsSmilD"
      },
      "outputs": [],
      "source": [
        "import tensorstore as ts\n",
        "import matplotlib.pyplot as plt"
      ]
    },
    {
      "cell_type": "code",
      "execution_count": 2,
      "metadata": {
        "executionInfo": {
          "elapsed": 3257,
          "status": "ok",
          "timestamp": 1684157651792,
          "user": {
            "displayName": "Michal Januszewski",
            "userId": "18354804585540279220"
          },
          "user_tz": -120
        },
        "id": "8s6p1Tzpnccu"
      },
      "outputs": [],
      "source": [
        "import functools as ft\n",
        "\n",
        "import numpy as np\n",
        "\n",
        "import jax\n",
        "import jax.numpy as jnp\n",
        "\n",
        "from sofima import mesh\n",
        "from sofima import flow_field\n",
        "from sofima import stitch_rigid\n",
        "\n",
        "# from tqdm.notebook import tqdm\n",
        "\n",
        "import warnings\n",
        "warnings.filterwarnings(\"ignore\", category=DeprecationWarning)\n"
      ]
    },
    {
      "cell_type": "code",
      "execution_count": 5,
      "metadata": {},
      "outputs": [],
      "source": [
        "import zarr_io\n",
        "\n",
        "bucket = 'sofima-test-bucket'\n",
        "path_0 = f'preprocessed_0.zarr'  \n",
        "path_1 = f'preprocessed_1.zarr'\n",
        "tile_0 = zarr_io.open_zarr(bucket, path_0)\n",
        "tile_1 = zarr_io.open_zarr(bucket, path_1)\n",
        "\n",
        "dataset0 = tile_0\n",
        "dataset = tile_1"
      ]
    },
    {
      "cell_type": "code",
      "execution_count": null,
      "metadata": {
        "executionInfo": {
          "elapsed": 2364,
          "status": "ok",
          "timestamp": 1684157418535,
          "user": {
            "displayName": "Michal Januszewski",
            "userId": "18354804585540279220"
          },
          "user_tz": -120
        },
        "id": "4DVxHeV-mkd-"
      },
      "outputs": [],
      "source": [
        "ds1 = ts.open({\n",
        "    'driver': 'zarr',\n",
        "    'kvstore': {\n",
        "        'driver': 'gfile',\n",
        "        'path': f'/bigstore/sofima-test-bucket/preprocessed_1.zarr'\n",
        "    },\n",
        "})\n",
        "dataset = ds1.result()"
      ]
    },
    {
      "cell_type": "code",
      "execution_count": 10,
      "metadata": {
        "executionInfo": {
          "elapsed": 1305,
          "status": "ok",
          "timestamp": 1684157596863,
          "user": {
            "displayName": "Michal Januszewski",
            "userId": "18354804585540279220"
          },
          "user_tz": -120
        },
        "id": "YBz7Jop3nVND"
      },
      "outputs": [],
      "source": [
        "ds0 = ts.open({\n",
        "    'driver': 'zarr',\n",
        "    'kvstore': {\n",
        "        'driver': 'gfile',\n",
        "        'path': f'/bigstore/sofima-test-bucket/preprocessed_0.zarr'\n",
        "    },\n",
        "})\n",
        "dataset0 = ds0.result()"
      ]
    },
    {
      "cell_type": "code",
      "execution_count": 6,
      "metadata": {
        "executionInfo": {
          "elapsed": 9675,
          "status": "ok",
          "timestamp": 1684157451585,
          "user": {
            "displayName": "Michal Januszewski",
            "userId": "18354804585540279220"
          },
          "user_tz": -120
        },
        "id": "sbIKJZCamWZ4"
      },
      "outputs": [],
      "source": [
        "d1 = dataset[0, 0, :, :, :].read().result()"
      ]
    },
    {
      "cell_type": "code",
      "execution_count": 7,
      "metadata": {
        "executionInfo": {
          "elapsed": 8663,
          "status": "ok",
          "timestamp": 1684157614568,
          "user": {
            "displayName": "Michal Januszewski",
            "userId": "18354804585540279220"
          },
          "user_tz": -120
        },
        "id": "WJ6mAkHhnY9D"
      },
      "outputs": [],
      "source": [
        "d0 = dataset0[0, 0, :, :, :].read().result()"
      ]
    },
    {
      "cell_type": "code",
      "execution_count": 8,
      "metadata": {
        "executionInfo": {
          "elapsed": 1,
          "status": "ok",
          "timestamp": 1684158760615,
          "user": {
            "displayName": "Michal Januszewski",
            "userId": "18354804585540279220"
          },
          "user_tz": -120
        },
        "id": "gs8tVD6IrzGY"
      },
      "outputs": [],
      "source": [
        "d0 = d0.T\n",
        "d1 = d1.T"
      ]
    },
    {
      "cell_type": "code",
      "execution_count": 9,
      "metadata": {
        "executionInfo": {
          "elapsed": 1,
          "status": "ok",
          "timestamp": 1684158762197,
          "user": {
            "displayName": "Michal Januszewski",
            "userId": "18354804585540279220"
          },
          "user_tz": -120
        },
        "id": "YOywpzyMrtaH"
      },
      "outputs": [],
      "source": [
        "tile_size_xyz = d0.shape"
      ]
    },
    {
      "cell_type": "code",
      "execution_count": 10,
      "metadata": {
        "executionInfo": {
          "elapsed": 62,
          "status": "ok",
          "timestamp": 1684159030588,
          "user": {
            "displayName": "Michal Januszewski",
            "userId": "18354804585540279220"
          },
          "user_tz": -120
        },
        "id": "m78ftzOPr1YT",
        "outputId": "8e1ea0d0-82d9-4b4b-890b-bfaa2fcf6b7a"
      },
      "outputs": [
        {
          "data": {
            "text/plain": [
              "(576, 576, 3544)"
            ]
          },
          "execution_count": 10,
          "metadata": {},
          "output_type": "execute_result"
        }
      ],
      "source": [
        "tile_size_xyz"
      ]
    },
    {
      "cell_type": "code",
      "execution_count": 11,
      "metadata": {
        "executionInfo": {
          "elapsed": 1,
          "status": "ok",
          "timestamp": 1684158771142,
          "user": {
            "displayName": "Michal Januszewski",
            "userId": "18354804585540279220"
          },
          "user_tz": -120
        },
        "id": "QbUrymn2mtoU"
      },
      "outputs": [],
      "source": [
        "# d1 zyx absolute position: [-2, 288, 6] per manual Neuroglancer optimization\n",
        "# overlap = 576 - 288 = 288\n",
        "bot = d1\n",
        "top = d0"
      ]
    },
    {
      "cell_type": "code",
      "execution_count": 12,
      "metadata": {
        "executionInfo": {
          "elapsed": 3,
          "status": "ok",
          "timestamp": 1684159019267,
          "user": {
            "displayName": "Michal Januszewski",
            "userId": "18354804585540279220"
          },
          "user_tz": -120
        },
        "id": "tgc41Bplsye3",
        "outputId": "9a975017-773e-4498-ce30-22be209fd5e3"
      },
      "outputs": [
        {
          "data": {
            "text/plain": [
              "((576, 576, 3544), (576, 576, 3544))"
            ]
          },
          "execution_count": 12,
          "metadata": {},
          "output_type": "execute_result"
        }
      ],
      "source": [
        "d1.shape, d0.shape  # XYZ"
      ]
    },
    {
      "cell_type": "code",
      "execution_count": 13,
      "metadata": {
        "executionInfo": {
          "elapsed": 62,
          "status": "ok",
          "timestamp": 1684161125378,
          "user": {
            "displayName": "Michal Januszewski",
            "userId": "18354804585540279220"
          },
          "user_tz": -120
        },
        "id": "VCJyta7Kq-ec"
      },
      "outputs": [],
      "source": [
        "# Size of the 'query' cuboid in the preceding tile.\n",
        "QUERY_R_ORTHO = 25\n",
        "QUERY_R_OVERLAP = 25\n",
        "\n",
        "# Size of the search area in the following tile.\n",
        "SEARCH_OVERLAP = 300\n",
        "SEARCH_R_ORTHO = 50\n",
        "\n",
        "assert SEARCH_R_ORTHO > QUERY_R_ORTHO\n",
        "assert SEARCH_OVERLAP > 2 * QUERY_R_OVERLAP\n",
        "\n",
        "@ft.partial(jax.jit, static_argnames=('overlap',))\n",
        "def _estimate_vert(top, bot, overlap):\n",
        "  return r[0]"
      ]
    },
    {
      "cell_type": "code",
      "execution_count": 14,
      "metadata": {
        "executionInfo": {
          "elapsed": 1,
          "status": "ok",
          "timestamp": 1684161125774,
          "user": {
            "displayName": "Michal Januszewski",
            "userId": "18354804585540279220"
          },
          "user_tz": -120
        },
        "id": "x_3EU-cYsBN6"
      },
      "outputs": [],
      "source": [
        "mz = tile_size_xyz[2] // 2\n",
        "mx = tile_size_xyz[0] // 2"
      ]
    },
    {
      "cell_type": "code",
      "execution_count": 15,
      "metadata": {
        "executionInfo": {
          "elapsed": 2,
          "status": "ok",
          "timestamp": 1684161126185,
          "user": {
            "displayName": "Michal Januszewski",
            "userId": "18354804585540279220"
          },
          "user_tz": -120
        },
        "id": "vaSgxtrWsMQp"
      },
      "outputs": [],
      "source": [
        "overlap = SEARCH_OVERLAP"
      ]
    },
    {
      "cell_type": "code",
      "execution_count": 16,
      "metadata": {
        "executionInfo": {
          "elapsed": 15,
          "status": "ok",
          "timestamp": 1684161126587,
          "user": {
            "displayName": "Michal Januszewski",
            "userId": "18354804585540279220"
          },
          "user_tz": -120
        },
        "id": "pHFrdP2hsCR7"
      },
      "outputs": [],
      "source": [
        "# data is now zyx\n",
        "top = d0[mx-SEARCH_R_ORTHO:mx+SEARCH_R_ORTHO, tile_size_xyz[1]-overlap:, mz-SEARCH_R_ORTHO:mz+SEARCH_R_ORTHO].T\n",
        "bot = d1[mx-QUERY_R_ORTHO:mx+QUERY_R_ORTHO, 0:QUERY_R_OVERLAP*2, mz-QUERY_R_ORTHO:mz+QUERY_R_ORTHO].T"
      ]
    },
    {
      "cell_type": "code",
      "execution_count": 25,
      "metadata": {
        "executionInfo": {
          "elapsed": 937,
          "status": "ok",
          "timestamp": 1684161128045,
          "user": {
            "displayName": "Michal Januszewski",
            "userId": "18354804585540279220"
          },
          "user_tz": -120
        },
        "id": "BXMhOFeKtonp"
      },
      "outputs": [],
      "source": [
        "xc = flow_field.masked_xcorr(bot, top, use_jax=True, dim=3)\n",
        "xc = xc.astype(np.float32)\n",
        "xc = xc[None, ...]"
      ]
    },
    {
      "cell_type": "code",
      "execution_count": 26,
      "metadata": {
        "executionInfo": {
          "elapsed": 1753,
          "status": "ok",
          "timestamp": 1684161130165,
          "user": {
            "displayName": "Michal Januszewski",
            "userId": "18354804585540279220"
          },
          "user_tz": -120
        },
        "id": "2_xaS9DftrUS"
      },
      "outputs": [],
      "source": [
        "# offset vector is xyz\n",
        "r = flow_field._batched_peaks(xc, ((xc.shape[1]) // 2, (xc.shape[2]) // 2, (xc.shape[3]) // 2), min_distance=2, threshold_rel=0.5)"
      ]
    },
    {
      "cell_type": "code",
      "execution_count": 19,
      "metadata": {
        "executionInfo": {
          "elapsed": 1,
          "status": "ok",
          "timestamp": 1684161130541,
          "user": {
            "displayName": "Michal Januszewski",
            "userId": "18354804585540279220"
          },
          "user_tz": -120
        },
        "id": "sZZaaZJUwhUO",
        "outputId": "cd092616-e5ac-4e2e-de50-be5302e72ce9"
      },
      "outputs": [
        {
          "data": {
            "text/plain": [
              "((50, 50, 50), (100, 300, 100))"
            ]
          },
          "execution_count": 19,
          "metadata": {},
          "output_type": "execute_result"
        }
      ],
      "source": [
        "bot.shape, top.shape"
      ]
    },
    {
      "cell_type": "code",
      "execution_count": 27,
      "metadata": {
        "executionInfo": {
          "elapsed": 2,
          "status": "ok",
          "timestamp": 1684161131130,
          "user": {
            "displayName": "Michal Januszewski",
            "userId": "18354804585540279220"
          },
          "user_tz": -120
        },
        "id": "fDJRieXqwiI5",
        "outputId": "d3f92dc0-f8b8-417b-d89e-e9b0e006c757"
      },
      "outputs": [
        {
          "data": {
            "text/plain": [
              "Array([[ -6.       , 113.       ,   4.       ,   1.0809387,   1.0466778]],      dtype=float32)"
            ]
          },
          "execution_count": 27,
          "metadata": {},
          "output_type": "execute_result"
        }
      ],
      "source": [
        "# xyz\n",
        "r"
      ]
    },
    {
      "cell_type": "code",
      "execution_count": 200,
      "metadata": {
        "executionInfo": {
          "elapsed": 55,
          "status": "ok",
          "timestamp": 1684161131616,
          "user": {
            "displayName": "Michal Januszewski",
            "userId": "18354804585540279220"
          },
          "user_tz": -120
        },
        "id": "NQtuCedYtF-B",
        "outputId": "c7b5ba40-cfd1-4f91-c3e7-6a45c4ad8b13"
      },
      "outputs": [
        {
          "data": {
            "text/plain": [
              "array([ 25, 125,  25])"
            ]
          },
          "execution_count": 200,
          "metadata": {},
          "output_type": "execute_result"
        }
      ],
      "source": [
        "# offset in y will be exactly 0 if the two images are exactly aligned in the center, i.e. if\n",
        "# 'bot' is placed at this value relative to the start of 'top'\n",
        "start_zyx = np.array(top.shape) // 2 - np.array(bot.shape) // 2\n",
        "start_zyx"
      ]
    },
    {
      "cell_type": "code",
      "execution_count": 201,
      "metadata": {
        "colab": {
          "height": 292
        },
        "executionInfo": {
          "elapsed": 202,
          "status": "ok",
          "timestamp": 1684161132302,
          "user": {
            "displayName": "Michal Januszewski",
            "userId": "18354804585540279220"
          },
          "user_tz": -120
        },
        "id": "klDTpb1rtA5F",
        "outputId": "f7804446-0953-4d1a-897f-913f09a4fcd3"
      },
      "outputs": [
        {
          "data": {
            "text/plain": [
              "<matplotlib.image.AxesImage at 0x7f6881531c00>"
            ]
          },
          "execution_count": 201,
          "metadata": {},
          "output_type": "execute_result"
        },
        {
          "data": {
            "image/png": "[encoded data removed]",
            "text/plain": [
              "<Figure size 400x400 with 1 Axes>"
            ]
          },
          "metadata": {},
          "output_type": "display_data"
        }
      ],
      "source": [
        "# We're looking for this fragment:\n",
        "plt.matshow(bot[QUERY_R_ORTHO, ...].T)"
      ]
    },
    {
      "cell_type": "code",
      "execution_count": 202,
      "metadata": {
        "colab": {
          "height": 292
        },
        "executionInfo": {
          "elapsed": 178,
          "status": "ok",
          "timestamp": 1684161133176,
          "user": {
            "displayName": "Michal Januszewski",
            "userId": "18354804585540279220"
          },
          "user_tz": -120
        },
        "id": "VI2A4A8Cs7Oy",
        "outputId": "fda3eaf0-2136-4602-9f93-fb25a7cdf45c"
      },
      "outputs": [
        {
          "data": {
            "text/plain": [
              "<matplotlib.image.AxesImage at 0x7f68813acf10>"
            ]
          },
          "execution_count": 202,
          "metadata": {},
          "output_type": "execute_result"
        },
        {
          "data": {
            "image/png": "[encoded data removed]",
            "text/plain": [
              "<Figure size 400x400 with 1 Axes>"
            ]
          },
          "metadata": {},
          "output_type": "display_data"
        }
      ],
      "source": [
        "# in this area..\n",
        "x0 = int(start_zyx[2] - r[0][0])\n",
        "y0 = int(start_zyx[1] - r[0][1])\n",
        "z0 = int(start_zyx[0] - r[0][2])\n",
        "\n",
        "plt.matshow(top[z0 + QUERY_R_ORTHO, y0:y0+QUERY_R_OVERLAP * 2, x0:x0 + QUERY_R_ORTHO * 2].T)"
      ]
    },
    {
      "cell_type": "code",
      "execution_count": 204,
      "metadata": {
        "executionInfo": {
          "elapsed": 2,
          "status": "ok",
          "timestamp": 1684161178712,
          "user": {
            "displayName": "Michal Januszewski",
            "userId": "18354804585540279220"
          },
          "user_tz": -120
        },
        "id": "DY5oWg3s0XPG"
      },
      "outputs": [],
      "source": [
        "# Ideally, the two images above should look almost identical."
      ]
    },
    {
      "cell_type": "code",
      "execution_count": 213,
      "metadata": {
        "executionInfo": {
          "elapsed": 2,
          "status": "ok",
          "timestamp": 1684161439494,
          "user": {
            "displayName": "Michal Januszewski",
            "userId": "18354804585540279220"
          },
          "user_tz": -120
        },
        "id": "d24wZV6B1Ae6",
        "outputId": "0aaa63ce-6a78-4c7e-d579-d4eeb96602c8"
      },
      "outputs": [
        {
          "data": {
            "text/plain": [
              "(6, 288, -4)"
            ]
          },
          "execution_count": 213,
          "metadata": {},
          "output_type": "execute_result"
        }
      ],
      "source": [
        "# Translating these reults into an offset for 'bot', assuming 'top' is fixed at (0, 0, 0).\n",
        "int(-r[0][0]), overlap - y0, int(-r[0][2])"
      ]
    },
    {
      "cell_type": "code",
      "execution_count": null,
      "metadata": {
        "id": "Sm37hMDr1y6h"
      },
      "outputs": [],
      "source": [
        "# Visualize results in Neuroglancer:\n",
        "https://neuroglancer-demo.appspot.com/#!%7B%22dimensions%22:%7B%22d0%22:%5B1%2C%22%22%5D%2C%22d1%22:%5B1%2C%22%22%5D%2C%22d2%22:%5B1%2C%22%22%5D%2C%22d3%22:%5B1%2C%22%22%5D%2C%22d4%22:%5B1%2C%22%22%5D%7D%2C%22displayDimensions%22:%5B%22d4%22%2C%22d3%22%2C%22d2%22%5D%2C%22position%22:%5B0.5%2C0.5%2C1736.5%2C318.348876953125%2C287.4121398925781%5D%2C%22crossSectionScale%22:0.26605859931413917%2C%22projectionScale%22:4096%2C%22layers%22:%5B%7B%22type%22:%22image%22%2C%22source%22:%22zarr://gs://sofima-test-bucket/preprocessed_0.zarr%22%2C%22tab%22:%22source%22%2C%22shader%22:%22#uicontrol%20invlerp%20normalized%5Cnvoid%20main%28%29%20%7B%5Cn%20%20emitRGB%28vec3%28normalized%28%29%2C%200.0%2C%200.0%29%29%3B%5Cn%7D%5Cn%22%2C%22name%22:%22preprocessed_0.zarr%22%7D%2C%7B%22type%22:%22image%22%2C%22source%22:%7B%22url%22:%22zarr://gs://sofima-test-bucket/preprocessed_1.zarr%22%2C%22transform%22:%7B%22matrix%22:%5B%5B1%2C0%2C0%2C0%2C0%2C0%5D%2C%5B0%2C1%2C0%2C0%2C0%2C0%5D%2C%5B0%2C0%2C1%2C0%2C0%2C-4%5D%2C%5B0%2C0%2C0%2C1%2C0%2C288%5D%2C%5B0%2C0%2C0%2C0%2C1%2C6%5D%5D%2C%22outputDimensions%22:%7B%22d0%22:%5B1%2C%22%22%5D%2C%22d1%22:%5B1%2C%22%22%5D%2C%22d2%22:%5B1%2C%22%22%5D%2C%22d3%22:%5B1%2C%22%22%5D%2C%22d4%22:%5B1%2C%22%22%5D%7D%7D%7D%2C%22tab%22:%22source%22%2C%22shader%22:%22#uicontrol%20invlerp%20normalized%5Cnvoid%20main%28%29%20%7B%5Cn%20%20emitRGB%28vec3%280.%2C%20normalized%28%29%2C%200.0%29%29%3B%5Cn%5Cn%7D%5Cn%22%2C%22name%22:%22preprocessed_1.zarr%22%7D%5D%2C%22selectedLayer%22:%7B%22visible%22:true%2C%22layer%22:%22preprocessed_1.zarr%22%7D%2C%22layout%22:%22xy%22%7D"
      ]
    },
    {
      "attachments": {},
      "cell_type": "markdown",
      "metadata": {},
      "source": [
        "Despite language of 'search' and 'query', this example actually has the search space moving as a kernel against a fixed padded query tile. \n",
        "\n",
        "Offset of [-6, 113, 4] represents how much the top tile should move. \n",
        "\n",
        "Simplified way (which removes a bunch of negatives) is to actually fix the search space like the termininology implies:"
      ]
    },
    {
      "cell_type": "code",
      "execution_count": 33,
      "metadata": {},
      "outputs": [
        {
          "name": "stdout",
          "output_type": "stream",
          "text": [
            "[ 238  276 1722]\n",
            "[ 25 125  25]\n",
            "[   6. -113.   -4.]\n",
            "[ 269.  288. 1743.]\n"
          ]
        }
      ],
      "source": [
        "xc = flow_field.masked_xcorr(top, bot, use_jax=True, dim=3)\n",
        "xc = xc.astype(np.float32)\n",
        "xc = xc[None, ...]\n",
        "r = flow_field._batched_peaks(xc, ((xc.shape[1]) // 2, (xc.shape[2]) // 2, (xc.shape[3]) // 2), min_distance=2, threshold_rel=0.5)\n",
        "start_zyx = np.array(top.shape) // 2 - np.array(bot.shape) // 2\n",
        "\n",
        "mx = tile_size_xyz[0] // 2\n",
        "mz = tile_size_xyz[2] // 2\n",
        "\n",
        "offset_xyz = np.array([mx - SEARCH_R_ORTHO, tile_size_xyz[1] - overlap, mz - SEARCH_R_ORTHO]) \\\n",
        "           + np.array([start_zyx[2], start_zyx[1], start_zyx[0]]) \\\n",
        "           + np.array(r[0][0:3])\n",
        "\n",
        "print(np.array([mx - SEARCH_R_ORTHO, tile_size_xyz[1] - overlap, mz - SEARCH_R_ORTHO]))\n",
        "print(np.array([start_zyx[2], start_zyx[1], start_zyx[0]]))\n",
        "print(np.array(r[0][0:3]))\n",
        "\n",
        "print(offset_xyz)\n",
        "# This is computing a slightly different quantity-- placement of query patch\n",
        "# about the origin. What we really want is the displacement of the neighbor tile\n",
        "# relative to the base tile coords. \n",
        "\n",
        "# Therefore, x/z components can be directly extracted from phase correlation\n",
        "# whereas displacement in y component requires knowing initial y position\n",
        "# where phase correlation is initialized. Relative y offset starts with a relative y offset. "
      ]
    },
    {
      "cell_type": "code",
      "execution_count": 34,
      "metadata": {},
      "outputs": [
        {
          "name": "stdout",
          "output_type": "stream",
          "text": [
            "[  6. 288.  -4.]\n"
          ]
        }
      ],
      "source": [
        "# By doing patch-based phase correlation we are implicitly defining \n",
        "# a relative y offset to begin with -- where the centers of the patches align. \n",
        "\n",
        "# Final simplified answer: \n",
        "xc = flow_field.masked_xcorr(top, bot, use_jax=True, dim=3)\n",
        "xc = xc.astype(np.float32)\n",
        "xc = xc[None, ...]\n",
        "r = flow_field._batched_peaks(xc, ((xc.shape[1]) // 2, (xc.shape[2]) // 2, (xc.shape[3]) // 2), min_distance=2, threshold_rel=0.5)\n",
        "start_zyx = np.array(top.shape) // 2 - np.array(bot.shape) // 2\n",
        "\n",
        "initial_relative_offset = np.array([0, tile_size_xyz[1] - overlap + start_zyx[1], 0])\n",
        "pc_relative_offset = np.array(r[0][0:3])\n",
        "offset_xyz = initial_relative_offset + pc_relative_offset\n",
        "print(offset_xyz)\n"
      ]
    }
  ],
  "metadata": {
    "colab": {
      "last_runtime": {
        "build_target": "//experimental/users/mjanusz/neuromancer:neuromancer_notebook_mj",
        "kind": "private"
      },
      "provenance": []
    },
    "kernelspec": {
      "display_name": "Python 3",
      "name": "python3"
    },
    "language_info": {
      "codemirror_mode": {
        "name": "ipython",
        "version": 3
      },
      "file_extension": ".py",
      "mimetype": "text/x-python",
      "name": "python",
      "nbconvert_exporter": "python",
      "pygments_lexer": "ipython3",
      "version": "3.11.3"
    }
  },
  "nbformat": 4,
  "nbformat_minor": 0
}
