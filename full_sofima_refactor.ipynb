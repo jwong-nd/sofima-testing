{
 "cells": [
  {
   "cell_type": "code",
   "execution_count": 1,
   "metadata": {},
   "outputs": [],
   "source": [
    "import functools as ft\n",
    "import jax\n",
    "import jax.numpy as jnp\n",
    "import numpy as np\n",
    "import time\n",
    "import tensorstore as ts\n",
    "\n",
    "from ng_link import NgState, link_utils\n",
    "\n",
    "import zarr_io\n",
    "import coarse_registration\n",
    "import fine_registration\n",
    "import fusion\n",
    "\n",
    "from sofima import stitch_rigid, flow_utils, stitch_elastic, mesh, map_utils\n",
    "from sofima.processor import warp   # tensorflow dependency, very weird\n",
    "\n",
    "from connectomics.common import bounding_box\n",
    "from connectomics.common import box_generator\n",
    "from connectomics.volume import subvolume"
   ]
  },
  {
   "cell_type": "code",
   "execution_count": 2,
   "metadata": {},
   "outputs": [],
   "source": [
    "# Application Inputs\n",
    "# Changing to two tiles\n",
    "\n",
    "READ_BUCKET = 'aind-open-data'\n",
    "WRITE_BUCKET = 'sofima-test-bucket'\n",
    "\n",
    "DATASET = 'diSPIM_647459_2022-12-07_00-00-00/diSPIM.zarr'\n",
    "DOWNSAMPLE_EXP = 2\n",
    "\n",
    "tile_layout = np.array([[1],\n",
    "                        [0]])"
   ]
  },
  {
   "cell_type": "code",
   "execution_count": 3,
   "metadata": {},
   "outputs": [
    {
     "name": "stdout",
     "output_type": "stream",
     "text": [
      "tile_X_0000_Y_0000_Z_0000_CH_0405_cam1.zarr\n",
      "(576, 576, 3543)\n",
      "tile_X_0001_Y_0000_Z_0000_CH_0405_cam1.zarr\n",
      "(576, 576, 3551)\n"
     ]
    }
   ],
   "source": [
    "# Coarse Registration Data Loading\n",
    "\n",
    "# Tile volumes simply maps index to volume. \n",
    "vox_sizes_xyz = [0.298, 0.298, 0.176]  # In um\n",
    "channels = [405, 488, 561, 638]\n",
    "tile_volumes = []\n",
    "tile_paths = []\n",
    "for channel in channels:\n",
    "    c_paths = []\n",
    "    for i in range(0, tile_layout.shape[0]):  # + 1 Temporary hack\n",
    "        if i < 10: \n",
    "            i = f\"0{i}\" \n",
    "        path = f\"tile_X_00{i}_Y_0000_Z_0000_CH_0{channel}_cam1.zarr\"\n",
    "        c_paths.append(DATASET + '/' + path)\n",
    "        \n",
    "        if channel == 405:   # Just selecting one\n",
    "            tile = zarr_io.open_zarr_s3(READ_BUCKET, \n",
    "                                        DATASET + f'/{path}/{DOWNSAMPLE_EXP}')\n",
    "            print(path)\n",
    "            print(tile.T[:,:,:,0,0].shape)\n",
    "            tile_volumes.append(tile.T[:,:,:,0,0])\n",
    "    tile_paths.append(c_paths)"
   ]
  },
  {
   "cell_type": "code",
   "execution_count": 4,
   "metadata": {},
   "outputs": [
    {
     "name": "stdout",
     "output_type": "stream",
     "text": [
      "Top Id: 1, Bottom Id: 0\n",
      "Top: (0, 0), Bot: (1, 0) [ -1. 285.  -4.]\n"
     ]
    }
   ],
   "source": [
    "# Coarse Registration\n",
    "cx, cy = coarse_registration.compute_coarse_offsets(tile_layout, tile_volumes, False)\n",
    "coarse_mesh = stitch_rigid.optimize_coarse_mesh(cx, cy, mesh_fn=stitch_rigid.elastic_tile_mesh_3d)\n",
    "# np.savez_compressed('coarse_results_6_cam1.npz', mesh=coarse_mesh, cx=cx, cy=cy)"
   ]
  },
  {
   "cell_type": "code",
   "execution_count": 5,
   "metadata": {},
   "outputs": [
    {
     "name": "stdout",
     "output_type": "stream",
     "text": [
      "mesh_index_to_key={0: (0, 0), 1: (0, 1)}\n",
      "key_to_mesh_index={(0, 0): 0, (0, 1): 1}\n",
      "fused_shape=[1, 1, 3543, 867, 576]\n",
      "tg_box=BoundingBox(start=(0, -8, 0), size=(28, 29, 178), is_border_start=(False, False, False), is_border_end=(False, False, False))\n",
      "out_box=BoundingBox(start=(0, -160, 0), size=(560, 580, 3560), is_border_start=(False, False, False), is_border_end=(False, False, False))\n",
      "tg_box=BoundingBox(start=(0, 7, -1), size=(28, 29, 178), is_border_start=(False, False, False), is_border_end=(False, False, False))\n",
      "out_box=BoundingBox(start=(0, 716, -20), size=(560, 580, 3560), is_border_start=(False, False, False), is_border_end=(False, False, False))\n",
      "MutableArray([ -0., 160.,  20.])\n"
     ]
    },
    {
     "name": "stderr",
     "output_type": "stream",
     "text": [
      "WARNING: All log messages before absl::InitializeLog() is called are written to STDERR\n",
      "I0000 00:00:1686850007.597435    7046 gcs_resource.cc:102] Using default AdmissionQueue with limit 32\n",
      "I0000 00:00:1686850007.605294    7743 google_auth_provider.cc:179] Running on GCE, using service account 895865026362-compute@developer.gserviceaccount.com\n"
     ]
    }
   ],
   "source": [
    "# Fusing the downsampled images \n",
    "downsampled_stride = (20, 20, 20)\n",
    "downsampled_tile_size_xyz = np.array(tile_volumes[0].shape)\n",
    "\n",
    "# original_stride = tuple(np.array(downsampled_stride) * 2**DOWNSAMPLE_EXP)\n",
    "# original_tile_size_xyz = downsampled_tile_size_xyz * 2**DOWNSAMPLE_EXP\n",
    "\n",
    "class StitchAndRender3dTiles(fusion.StitchAndRender3dTiles):\n",
    "  cache = {}\n",
    "\n",
    "  def _open_tile_volume(self, tile_id: int):\n",
    "    if tile_id in self.cache:\n",
    "      return self.cache[tile_id]\n",
    "\n",
    "    if tile_id < 10: \n",
    "      i = f\"0{tile_id}\" \n",
    "    path = f\"tile_X_00{i}_Y_0000_Z_0000_CH_0405_cam1.zarr\"\n",
    "    tile = zarr_io.open_zarr_s3(READ_BUCKET, \n",
    "                                DATASET + f'/{path}/{2}')\n",
    "    tile = tile[0,0,:,:,:] # convert to zyx axis layout (diff from coarse and fine)\n",
    "    self.cache[tile_id] = fine_registration.SyncAdapter(tile)\n",
    "    return self.cache[tile_id]\n",
    "\n",
    "dim = len(downsampled_stride)\n",
    "mesh_shape = (np.array(downsampled_tile_size_xyz[::-1]) // downsampled_stride).tolist()\n",
    "downsampled_mesh = np.zeros([dim, len(tile_volumes)] + mesh_shape, dtype=np.float32)\n",
    "\n",
    "_, _, my, mx = coarse_mesh.shape\n",
    "mesh_index_to_key = {}\n",
    "\n",
    "index = 0\n",
    "for y, row in enumerate(tile_layout):\n",
    "  for x, tile_id in enumerate(row):\n",
    "    mesh_index_to_key[index] = (y, x)\n",
    "    index += 1\n",
    "key_to_mesh_index = {v:k for k, v in mesh_index_to_key.items()}\n",
    "\n",
    "print(f'{mesh_index_to_key=}')\n",
    "print(f'{key_to_mesh_index=}')\n",
    "\n",
    "# Screw it, just create the key-map the same way as Michal did. \n",
    "key_to_idx = {(tx, ty): i for i, (tx, ty) in enumerate(tile_coords)}\n",
    "\n",
    "# Okay it comes down to the confusing convention again\n",
    "# and dependency on ad-hoc initialized data structure. \n",
    "\n",
    "# To standardize, need to standardize this tile coords object. \n",
    "# Also, I like the idea of factoring out the mesh initalization \n",
    "# in stitch elastic increasingly more. \n",
    "\n",
    "\n",
    "for ind, (tx, ty) in mesh_index_to_key.items():\n",
    "  downsampled_mesh[:, ind, ...] = coarse_mesh[:, 0, ty, tx].reshape(\n",
    "  (dim,) + (1,) * dim)\n",
    "# Something fishy with this mesh initalization\n",
    "\n",
    "\n",
    "cx[np.isnan(cx)] = 0    \n",
    "cy[np.isnan(cy)] = 0\n",
    "x_overlap = cx[2,0,0,0] / downsampled_tile_size_xyz[1]\n",
    "y_overlap = cy[1,0,0,0] / downsampled_tile_size_xyz[0]\n",
    "y_shape, x_shape = cx.shape[2], cx.shape[3]\n",
    "\n",
    "fused_x = downsampled_tile_size_xyz[0] * (1 + ((x_shape - 1) * (1 - x_overlap)))\n",
    "fused_y = downsampled_tile_size_xyz[1] * (1 + ((y_shape - 1) * (1 - y_overlap)))\n",
    "fused_z = downsampled_tile_size_xyz[2]\n",
    "fused_shape = [1, 1, int(fused_z), int(fused_y), int(fused_x)]\n",
    "print(f'{fused_shape=}')\n",
    "\n",
    "# Fusion input: Output path\n",
    "FUSED_PATH = 'downsample_res_2_tiles_refactor_tmp.zarr'\n",
    "\n",
    "# Fusion input: Crop offset \n",
    "start = np.array([np.inf, np.inf, np.inf])\n",
    "map_box = bounding_box.BoundingBox(\n",
    "  start=(0, 0, 0),\n",
    "  size=downsampled_mesh.shape[2:][::-1],\n",
    ")\n",
    "for i in range(0, len(tile_volumes)): \n",
    "  tx, ty = mesh_index_to_key[i]\n",
    "  mesh = downsampled_mesh[:, i, ...]\n",
    "  tg_box = map_utils.outer_box(mesh, map_box, downsampled_stride)\n",
    "\n",
    "  out_box = bounding_box.BoundingBox(\n",
    "    start=(\n",
    "      tg_box.start[0] * downsampled_stride[2] + tx * downsampled_tile_size_xyz[0],\n",
    "      tg_box.start[1] * downsampled_stride[1] + ty * downsampled_tile_size_xyz[1],\n",
    "      tg_box.start[2] * downsampled_stride[0],\n",
    "    ),\n",
    "    size=(\n",
    "      tg_box.size[0] * downsampled_stride[2],\n",
    "      tg_box.size[1] * downsampled_stride[1],\n",
    "      tg_box.size[2] * downsampled_stride[0],\n",
    "    )\n",
    "  )\n",
    "  start = np.minimum(start, out_box.start)\n",
    "  print(f'{tg_box=}')\n",
    "  print(f'{out_box=}')\n",
    "\n",
    "offset = -start\n",
    "print(offset)\n",
    "# offset = (0, -160, 0)\n",
    "offset = (0, 0, 0)\n",
    "\n",
    "# Fusion time:\n",
    "ds_out = zarr_io.write_zarr(WRITE_BUCKET, fused_shape, FUSED_PATH)\n",
    "renderer = StitchAndRender3dTiles(\n",
    "    tile_map=tile_layout,\n",
    "    tile_mesh=downsampled_mesh,\n",
    "    key_to_mesh_index=key_to_mesh_index,\n",
    "    stride=downsampled_stride,\n",
    "    offset=offset,\n",
    "    parallelism=8\n",
    ")\n",
    "\n",
    "box = bounding_box.BoundingBox(start=(0,0,0), size=ds_out.shape[4:1:-1])  # Needs xyz \n",
    "gen = box_generator.BoxGenerator(box, (512, 512, 512), (0, 0, 0), True) # These are xyz\n",
    "renderer.set_effective_subvol_and_overlap((512, 512, 512), (0, 0, 0))\n",
    "for i, sub_box in enumerate(gen.boxes):\n",
    "    t_start = time.time()\n",
    "\n",
    "    # Feed in an empty subvol, with dimensions of sub_box. \n",
    "    inp_subvol = subvolume.Subvolume(np.zeros(sub_box.size[::-1], dtype=np.uint16)[None, ...], sub_box)\n",
    "    ret_subvol = renderer.process(inp_subvol)  # czyx\n",
    "\n",
    "    t_render = time.time()\n",
    "\n",
    "    # ret_subvol is a 4D CZYX volume\n",
    "    slice = ret_subvol.bbox.to_slice3d()\n",
    "    slice = (0, 0, slice[0], slice[1], slice[2])\n",
    "    ds_out[slice].write(ret_subvol.data[0, ...]).result()\n",
    "    \n",
    "    t_write = time.time()\n",
    "    \n",
    "    print('box {i}: {t1:0.2f} render  {t2:0.2f} write'.format(i=i, t1=t_render - t_start, t2=t_write - t_render))"
   ]
  },
  {
   "cell_type": "code",
   "execution_count": 11,
   "metadata": {},
   "outputs": [
    {
     "data": {
      "text/plain": [
       "{0: (BoundingBox(start=(0, -160, 0), size=(560, 580, 3540), is_border_start=(False, False, False), is_border_end=(False, False, False)),\n",
       "  BoundingBox(start=(0, -8, 0), size=(28, 29, 177), is_border_start=(False, False, False), is_border_end=(False, False, False))),\n",
       " 1: (BoundingBox(start=(0, 716, 0), size=(560, 580, 3540), is_border_start=(False, False, False), is_border_end=(False, False, False)),\n",
       "  BoundingBox(start=(0, 7, 0), size=(28, 29, 177), is_border_start=(False, False, False), is_border_end=(False, False, False)))}"
      ]
     },
     "execution_count": 11,
     "metadata": {},
     "output_type": "execute_result"
    }
   ],
   "source": [
    "renderer._tile_boxes"
   ]
  },
  {
   "cell_type": "code",
   "execution_count": 15,
   "metadata": {},
   "outputs": [
    {
     "data": {
      "text/plain": [
       "(3551, 576, 576)"
      ]
     },
     "execution_count": 15,
     "metadata": {},
     "output_type": "execute_result"
    }
   ],
   "source": [
    "renderer.cache[1].shape"
   ]
  },
  {
   "cell_type": "code",
   "execution_count": null,
   "metadata": {},
   "outputs": [],
   "source": [
    "# Tg box is flipped, \n",
    "# Everything else is correct. \n",
    "\n"
   ]
  },
  {
   "cell_type": "code",
   "execution_count": null,
   "metadata": {},
   "outputs": [],
   "source": [
    "# Appears like the calculated offset is very wrong-\n",
    "# [0, 716, 0] != [0, 150, 0]    (magnitudes)\n",
    "# which effects defintion of _tile_boxes\n",
    "\n",
    "# Hint-- not accessing the SyncAdapter at all. \n",
    "# Getting stuck on inverting the map, and I know that \n",
    "# the tile boxes are different. \n",
    "# Will investigate shortly. At least I found the problem. \n",
    "\n",
    "# Difference between tile boxes is 876, should be 276. \n",
    "\n",
    "# Other states are correct: (maps, fused shape)\n",
    "# Downsampled mesh:\n",
    "# Should be: [3, 2, 177, 28, 28]\n",
    "# Instead: [3, 2, 177, 28, 28]\n"
   ]
  },
  {
   "cell_type": "code",
   "execution_count": null,
   "metadata": {},
   "outputs": [],
   "source": []
  },
  {
   "cell_type": "code",
   "execution_count": 18,
   "metadata": {},
   "outputs": [
    {
     "name": "stdout",
     "output_type": "stream",
     "text": [
      "tg_box=BoundingBox(start=(0, -8, 0), size=(28, 29, 177), is_border_start=(False, False, False), is_border_end=(False, False, False))\n",
      "out_box=BoundingBox(start=(0, -160, 0), size=(560, 580, 3540), is_border_start=(False, False, False), is_border_end=(False, False, False))\n",
      "tg_box=BoundingBox(start=(0, 7, 0), size=(28, 29, 177), is_border_start=(False, False, False), is_border_end=(False, False, False))\n",
      "out_box=BoundingBox(start=(0, 716, 0), size=(560, 580, 3540), is_border_start=(False, False, False), is_border_end=(False, False, False))\n",
      "MutableArray([ -0., 160.,  -0.])\n"
     ]
    }
   ],
   "source": [
    "start = np.array([np.inf, np.inf, np.inf])\n",
    "map_box = bounding_box.BoundingBox(\n",
    "  start=(0, 0, 0),\n",
    "  size=downsampled_mesh.shape[2:][::-1],\n",
    ")\n",
    "\n",
    "for i in range(0, len(tile_volumes)):\n",
    "  tx, ty = mesh_index_to_key[i]\n",
    "  mesh = downsampled_mesh[:, i, ...]\n",
    "  tg_box = map_utils.outer_box(mesh, map_box, downsampled_stride)\n",
    "\n",
    "  out_box = bounding_box.BoundingBox(\n",
    "    start=(\n",
    "      tg_box.start[0] * downsampled_stride[2] + tx * downsampled_tile_size_xyz[0],\n",
    "      tg_box.start[1] * downsampled_stride[1] + ty * downsampled_tile_size_xyz[1],\n",
    "      tg_box.start[2] * downsampled_stride[0],\n",
    "    ),\n",
    "    size=(\n",
    "      tg_box.size[0] * downsampled_stride[2],\n",
    "      tg_box.size[1] * downsampled_stride[1],\n",
    "      tg_box.size[2] * downsampled_stride[0],\n",
    "    )\n",
    "  )\n",
    "  start = np.minimum(start, out_box.start)  # Must indent :P\n",
    "  print(f'{tg_box=}')\n",
    "  print(f'{out_box=}')\n",
    "\n",
    "offset = -start\n",
    "print(offset)\n",
    "\n",
    "\n",
    "# Odd stuff. \n",
    "# Defining these boxes is defintely the wrong part. \n",
    "\n",
    "# Well this will obviously choose the last out_box\n",
    "# also, I believe the error is related to tx, ty. \n",
    "\n",
    "# 716 is wrong!!!!\n",
    "# how the heck is the other thing getting a different box\n",
    "\n"
   ]
  },
  {
   "cell_type": "code",
   "execution_count": null,
   "metadata": {},
   "outputs": [],
   "source": []
  }
 ],
 "metadata": {
  "kernelspec": {
   "display_name": "py311",
   "language": "python",
   "name": "python3"
  },
  "language_info": {
   "codemirror_mode": {
    "name": "ipython",
    "version": 3
   },
   "file_extension": ".py",
   "mimetype": "text/x-python",
   "name": "python",
   "nbconvert_exporter": "python",
   "pygments_lexer": "ipython3",
   "version": "3.11.3"
  },
  "orig_nbformat": 4
 },
 "nbformat": 4,
 "nbformat_minor": 2
}
