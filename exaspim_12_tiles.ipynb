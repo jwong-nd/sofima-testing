{
 "cells": [
  {
   "cell_type": "code",
   "execution_count": 1,
   "metadata": {},
   "outputs": [],
   "source": [
    "import numpy as np\n",
    "\n",
    "import zarr_io\n",
    "import data_prep\n",
    "import coarse_registration\n",
    "\n",
    "from sofima import stitch_rigid"
   ]
  },
  {
   "cell_type": "code",
   "execution_count": 2,
   "metadata": {},
   "outputs": [],
   "source": [
    "bucket = 'aind-open-data'\n",
    "downsampling_exp = 2\n",
    "tile_volumes = []  # Filled with x in outer loop and y in inner loop\n",
    "for x in range(5):\n",
    "    for y in range(3):\n",
    "        dataset = 'exaSPIM_615296_2022-09-28_11-47-06/exaSPIM/'\n",
    "        path = f'tile_x_000{x}_y_000{y}_z_0000_ch_488/{downsampling_exp}'\n",
    "        tile = zarr_io.open_zarr_s3(bucket, dataset + path)\n",
    "        tile_volumes.append(tile.T[:,:,:,0,0])\n",
    "\n",
    "# Inferred from Neuroglancer\n",
    "tile_layout = np.array([[14, 11, 8, 5, 2], \n",
    "                        [13, 10, 7, 4, 1], \n",
    "                        [12,  9, 6, 3, 0]])"
   ]
  },
  {
   "cell_type": "code",
   "execution_count": 5,
   "metadata": {},
   "outputs": [
    {
     "name": "stdout",
     "output_type": "stream",
     "text": [
      "Left Id: 14, Right Id: 11\n",
      "Left: (0, 0), Right: (0, 1) [ 6.249e+03 -1.000e+00 -1.000e+02]\n",
      "Left Id: 11, Right Id: 8\n",
      "Left: (0, 1), Right: (0, 2) [ 6.249e+03 -1.000e+00 -1.000e+02]\n",
      "Left Id: 8, Right Id: 5\n",
      "Left: (0, 2), Right: (0, 3) [ 6.249e+03 -1.000e+00 -1.000e+02]\n",
      "Left Id: 5, Right Id: 2\n",
      "Left: (0, 3), Right: (0, 4) [ 6.249e+03 -1.000e+00 -2.300e+01]\n",
      "Left Id: 13, Right Id: 10\n",
      "Left: (1, 0), Right: (1, 1) [ 6.249e+03 -1.000e+00 -1.000e+02]\n",
      "Left Id: 10, Right Id: 7\n",
      "Left: (1, 1), Right: (1, 2) [ 6.249e+03 -1.000e+00 -1.000e+02]\n",
      "Left Id: 7, Right Id: 4\n",
      "Left: (1, 2), Right: (1, 3) [ 6.249e+03 -1.000e+00 -1.000e+02]\n",
      "Left Id: 4, Right Id: 1\n",
      "Left: (1, 3), Right: (1, 4) [ 6.249e+03 -1.000e+00 -1.000e+02]\n",
      "Left Id: 12, Right Id: 9\n",
      "Left: (2, 0), Right: (2, 1) [ 6.249e+03 -1.000e+00 -1.000e+02]\n",
      "Left Id: 9, Right Id: 6\n",
      "Left: (2, 1), Right: (2, 2) [ 6.249e+03 -1.000e+00 -1.000e+02]\n",
      "Left Id: 6, Right Id: 3\n",
      "Left: (2, 2), Right: (2, 3) [ 6.249e+03 -1.000e+00 -1.000e+02]\n",
      "Left Id: 3, Right Id: 0\n",
      "Left: (2, 3), Right: (2, 4) [ 6.249e+03 -1.000e+00  9.600e+01]\n",
      "Top Id: 14, Bottom Id: 13\n",
      "Top: (0, 0), Bot: (1, 0) [-1.000e+00  2.387e+03  0.000e+00]\n",
      "Top Id: 13, Bottom Id: 12\n",
      "Top: (1, 0), Bot: (2, 0) [-1.000e+00  2.387e+03  0.000e+00]\n",
      "Top Id: 11, Bottom Id: 10\n",
      "Top: (0, 1), Bot: (1, 1) [-1.000e+00  2.497e+03  0.000e+00]\n",
      "Top Id: 10, Bottom Id: 9\n",
      "Top: (1, 1), Bot: (2, 1) [-1.000e+00  2.559e+03  0.000e+00]\n",
      "Top Id: 8, Bottom Id: 7\n",
      "Top: (0, 2), Bot: (1, 2) [-1.000e+00  2.387e+03  0.000e+00]\n",
      "Top Id: 7, Bottom Id: 6\n",
      "Top: (1, 2), Bot: (2, 2) [-1.000e+00  2.559e+03  0.000e+00]\n",
      "Top Id: 5, Bottom Id: 4\n",
      "Top: (0, 3), Bot: (1, 3) [-1.000e+00  2.483e+03  0.000e+00]\n",
      "Top Id: 4, Bottom Id: 3\n",
      "Top: (1, 3), Bot: (2, 3) [-1.000e+00  2.503e+03  0.000e+00]\n",
      "Top Id: 2, Bottom Id: 1\n",
      "Top: (0, 4), Bot: (1, 4) [-1.000e+00  2.387e+03  0.000e+00]\n",
      "Top Id: 1, Bottom Id: 0\n",
      "Top: (1, 4), Bot: (2, 4) [-1.000e+00  2.414e+03  0.000e+00]\n",
      "cx=array([[[[ 6.249e+03,  6.249e+03,  6.249e+03,  6.249e+03,        nan],\n",
      "         [ 6.249e+03,  6.249e+03,  6.249e+03,  6.249e+03,        nan],\n",
      "         [ 6.249e+03,  6.249e+03,  6.249e+03,  6.249e+03,        nan]]],\n",
      "\n",
      "\n",
      "       [[[-1.000e+00, -1.000e+00, -1.000e+00, -1.000e+00,        nan],\n",
      "         [-1.000e+00, -1.000e+00, -1.000e+00, -1.000e+00,        nan],\n",
      "         [-1.000e+00, -1.000e+00, -1.000e+00, -1.000e+00,        nan]]],\n",
      "\n",
      "\n",
      "       [[[-1.000e+02, -1.000e+02, -1.000e+02, -2.300e+01,        nan],\n",
      "         [-1.000e+02, -1.000e+02, -1.000e+02, -1.000e+02,        nan],\n",
      "         [-1.000e+02, -1.000e+02, -1.000e+02,  9.600e+01,        nan]]]])\n",
      "cy=array([[[[-1.000e+00, -1.000e+00, -1.000e+00, -1.000e+00, -1.000e+00],\n",
      "         [-1.000e+00, -1.000e+00, -1.000e+00, -1.000e+00, -1.000e+00],\n",
      "         [       nan,        nan,        nan,        nan,        nan]]],\n",
      "\n",
      "\n",
      "       [[[ 2.387e+03,  2.497e+03,  2.387e+03,  2.483e+03,  2.387e+03],\n",
      "         [ 2.387e+03,  2.559e+03,  2.559e+03,  2.503e+03,  2.414e+03],\n",
      "         [       nan,        nan,        nan,        nan,        nan]]],\n",
      "\n",
      "\n",
      "       [[[ 0.000e+00,  0.000e+00,  0.000e+00,  0.000e+00,  0.000e+00],\n",
      "         [ 0.000e+00,  0.000e+00,  0.000e+00,  0.000e+00,  0.000e+00],\n",
      "         [       nan,        nan,        nan,        nan,        nan]]]])\n"
     ]
    }
   ],
   "source": [
    "cx, cy = coarse_registration.compute_coarse_offsets(tile_layout, tile_volumes)\n",
    "coarse_mesh = stitch_rigid.optimize_coarse_mesh(cx, cy, mesh_fn=stitch_rigid.elastic_tile_mesh_3d)\n",
    "\n",
    "print(f'{cx=}')\n",
    "print(f'{cy=}')"
   ]
  }
 ],
 "metadata": {
  "kernelspec": {
   "display_name": "py311",
   "language": "python",
   "name": "python3"
  },
  "language_info": {
   "codemirror_mode": {
    "name": "ipython",
    "version": 3
   },
   "file_extension": ".py",
   "mimetype": "text/x-python",
   "name": "python",
   "nbconvert_exporter": "python",
   "pygments_lexer": "ipython3",
   "version": "3.11.3"
  },
  "orig_nbformat": 4
 },
 "nbformat": 4,
 "nbformat_minor": 2
}
