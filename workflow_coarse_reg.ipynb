{
 "cells": [
  {
   "cell_type": "code",
   "execution_count": 1,
   "metadata": {},
   "outputs": [],
   "source": [
    "import numpy as np\n",
    "\n",
    "import zarr_io\n",
    "import data_prep\n",
    "import coarse_registration\n",
    "\n",
    "from sofima import stitch_rigid"
   ]
  },
  {
   "cell_type": "code",
   "execution_count": 2,
   "metadata": {},
   "outputs": [
    {
     "name": "stderr",
     "output_type": "stream",
     "text": [
      "WARNING: All log messages before absl::InitializeLog() is called are written to STDERR\n",
      "I0000 00:00:1684359504.139048  191820 gcs_resource.cc:102] Using default AdmissionQueue with limit 32\n",
      "I0000 00:00:1684359504.140731  191849 google_auth_provider.cc:179] Running on GCE, using service account 895865026362-compute@developer.gserviceaccount.com\n"
     ]
    }
   ],
   "source": [
    "# Preprocess raw tiles\n",
    "bucket = 'sofima-test-bucket'\n",
    "downsampling_exp = 2\n",
    "path_0 = f'tile_X_0001_Y_0000_Z_0000_CH_0405_cam0.zarr/{downsampling_exp}'  \n",
    "path_1 = f'tile_X_0002_Y_0000_Z_0000_CH_0405_cam0.zarr/{downsampling_exp}'\n",
    "tile_0 = zarr_io.open_zarr(bucket, path_0)\n",
    "tile_1 = zarr_io.open_zarr(bucket, path_1)\n",
    "data_prep.preprocess_tiles(tile_volumes = [tile_0, tile_1], \n",
    "                           output_names = ['preprocessed_0.zarr', 'preprocessed_1.zarr'],\n",
    "                           bucket = bucket, \n",
    "                           batch_size = 256)"
   ]
  },
  {
   "attachments": {},
   "cell_type": "markdown",
   "metadata": {},
   "source": [
    "CPU Only: 8.5 minutes\n",
    "\n",
    "GPU, Batch Size = 32 = 2**5: 4.5 minutes\n",
    "\n",
    "GPU, Batch Size = 256 = 2**8: 1.6 minutes\n",
    "\n",
    "GPU, Batch Size = 512 = 2**9: 1.5 minutes\n",
    "\n",
    "GPU, Batch Size = 1024 = 2**10: 1.5 minutes"
   ]
  },
  {
   "cell_type": "code",
   "execution_count": 2,
   "metadata": {},
   "outputs": [
    {
     "name": "stderr",
     "output_type": "stream",
     "text": [
      "WARNING: All log messages before absl::InitializeLog() is called are written to STDERR\n",
      "I0000 00:00:1684359760.771328  194652 gcs_resource.cc:102] Using default AdmissionQueue with limit 32\n",
      "I0000 00:00:1684359760.773134  194937 google_auth_provider.cc:179] Running on GCE, using service account 895865026362-compute@developer.gserviceaccount.com\n"
     ]
    }
   ],
   "source": [
    "# Load preprocessed tiles:  \n",
    "bucket = 'sofima-test-bucket'\n",
    "path_0 = f'preprocessed_0.zarr'\n",
    "path_1 = f'preprocessed_1.zarr'\n",
    "tile_0 = zarr_io.open_zarr(bucket, path_0)\n",
    "tile_1 = zarr_io.open_zarr(bucket, path_1)"
   ]
  },
  {
   "cell_type": "code",
   "execution_count": 3,
   "metadata": {},
   "outputs": [
    {
     "name": "stdout",
     "output_type": "stream",
     "text": [
      "(100, 300, 100)\n",
      "(50, 50, 50)\n",
      "[ 25 125  25]\n",
      "[  0 401   0]\n",
      "[  -5. -114.    6.]\n",
      "cx=array([[[[nan],\n",
      "         [nan]]],\n",
      "\n",
      "\n",
      "       [[[nan],\n",
      "         [nan]]],\n",
      "\n",
      "\n",
      "       [[[nan],\n",
      "         [nan]]]])\n",
      "cy=array([[[[ -5.],\n",
      "         [ nan]]],\n",
      "\n",
      "\n",
      "       [[[287.],\n",
      "         [ nan]]],\n",
      "\n",
      "\n",
      "       [[[  6.],\n",
      "         [ nan]]]])\n"
     ]
    }
   ],
   "source": [
    "# Coarse Registration\n",
    "tile_layout = np.array([[0], \n",
    "                        [1]])\n",
    "tile_map = {(0, 0):0, (1, 0):1}  # (ty, tx) -> id\n",
    "idx_to_coord = {0:(0, 0), 1:(1, 0)}\n",
    "tile_volumes = [tile_0.T[:,:,:,0,0], tile_1.T[:,:,:,0,0]]  # Place X/Y dimensions in front, must have 3D\n",
    "cx, cy = coarse_registration.compute_coarse_offsets(tuple(tile_layout.shape), tile_map, tile_volumes)\n",
    "coarse_mesh = stitch_rigid.optimize_coarse_mesh(cx, cy, mesh_fn=stitch_rigid.elastic_tile_mesh_3d)\n",
    "\n",
    "print(f'{cx=}')\n",
    "print(f'{cy=}')"
   ]
  },
  {
   "attachments": {},
   "cell_type": "markdown",
   "metadata": {},
   "source": [
    "uint16 images: 90s\n",
    "\n",
    "uint8 images: 20s"
   ]
  },
  {
   "cell_type": "code",
   "execution_count": 4,
   "metadata": {},
   "outputs": [],
   "source": [
    "# Finally, save result for fine registration\n",
    "np.savez_compressed('coarse_results.npz', mesh=coarse_mesh, cx=cx, cy=cy)"
   ]
  },
  {
   "attachments": {},
   "cell_type": "markdown",
   "metadata": {},
   "source": [
    "Current set of parameters: \n",
    "- QUERY_R_ORTHO = 25\n",
    "- QUERY_R_OVERLAP = 25\n",
    "- SEARCH_OVERLAP = 300\n",
    "- SEARCH_R_ORTHO = 50\n",
    "\n",
    "Result, zyx: [-5, 287, 6] \n",
    "Heurisitc: Small search area and small search patch works best.  "
   ]
  }
 ],
 "metadata": {
  "kernelspec": {
   "display_name": "py311",
   "language": "python",
   "name": "python3"
  },
  "language_info": {
   "codemirror_mode": {
    "name": "ipython",
    "version": 3
   },
   "file_extension": ".py",
   "mimetype": "text/x-python",
   "name": "python",
   "nbconvert_exporter": "python",
   "pygments_lexer": "ipython3",
   "version": "3.11.3"
  },
  "orig_nbformat": 4
 },
 "nbformat": 4,
 "nbformat_minor": 2
}
