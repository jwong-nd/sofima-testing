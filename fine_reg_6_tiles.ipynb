{
 "cells": [
  {
   "cell_type": "code",
   "execution_count": 1,
   "metadata": {},
   "outputs": [],
   "source": [
    "import functools as ft\n",
    "import jax\n",
    "import jax.numpy as jnp\n",
    "import numpy as np\n",
    "\n",
    "import zarr_io\n",
    "import fine_registration\n",
    "\n",
    "from sofima import stitch_elastic, flow_utils, mesh  # Other stuffs"
   ]
  },
  {
   "cell_type": "code",
   "execution_count": 2,
   "metadata": {},
   "outputs": [],
   "source": [
    "data = np.load('coarse_results_6.npz')\n",
    "cx = data['cx']\n",
    "cy = data['cy']\n",
    "coarse_mesh = data['mesh']"
   ]
  },
  {
   "cell_type": "code",
   "execution_count": 3,
   "metadata": {},
   "outputs": [
    {
     "name": "stderr",
     "output_type": "stream",
     "text": [
      "WARNING: All log messages before absl::InitializeLog() is called are written to STDERR\n",
      "I0000 00:00:1684538502.052938   29644 gcs_resource.cc:102] Using default AdmissionQueue with limit 32\n",
      "I0000 00:00:1684538502.055383   29690 google_auth_provider.cc:179] Running on GCE, using service account 895865026362-compute@developer.gserviceaccount.com\n"
     ]
    }
   ],
   "source": [
    "# Load raw tiles: \n",
    "bucket = 'sofima-test-bucket'\n",
    "downsampling_exp = 2\n",
    "path_0 = f'tile_X_0001_Y_0000_Z_0000_CH_0405_cam0.zarr/{downsampling_exp}'  \n",
    "path_1 = f'tile_X_0002_Y_0000_Z_0000_CH_0405_cam0.zarr/{downsampling_exp}'\n",
    "path_2 = f'tile_X_0003_Y_0000_Z_0000_CH_0405_cam0.zarr/{downsampling_exp}'\n",
    "path_3 = f'tile_X_0004_Y_0000_Z_0000_CH_0405_cam0.zarr/{downsampling_exp}'\n",
    "path_4 = f'tile_X_0005_Y_0000_Z_0000_CH_0405_cam0.zarr/{downsampling_exp}'\n",
    "path_5 = f'tile_X_0006_Y_0000_Z_0000_CH_0405_cam0.zarr/{downsampling_exp}'\n",
    "\n",
    "tile_0 = zarr_io.open_zarr(bucket, path_0)\n",
    "tile_1 = zarr_io.open_zarr(bucket, path_1)\n",
    "tile_2 = zarr_io.open_zarr(bucket, path_2)\n",
    "tile_3 = zarr_io.open_zarr(bucket, path_3)\n",
    "tile_4 = zarr_io.open_zarr(bucket, path_4)\n",
    "tile_5 = zarr_io.open_zarr(bucket, path_5)\n",
    "\n",
    "# Existing data structures:\n",
    "tile_layout = np.array([[0], \n",
    "                        [1],\n",
    "                        [2],\n",
    "                        [3],\n",
    "                        [4],\n",
    "                        [5]])\n",
    "tile_volumes = [tile_0[0,:,:,:,:], \n",
    "                tile_1[0,:,:,:,:],\n",
    "                tile_2[0,:,:,:,:],\n",
    "                tile_3[0,:,:,:,:],\n",
    "                tile_4[0,:,:,:,:],\n",
    "                tile_5[0,:,:,:,:]]\n",
    "\n",
    "# Replacing 'tile_map' with SyncAdapter objects and adopting reverse basis\n",
    "tile_map = {(0, 0): fine_registration.SyncAdapter(tile_volumes[0]), \n",
    "            (0, 1): fine_registration.SyncAdapter(tile_volumes[1]),\n",
    "            (0, 2): fine_registration.SyncAdapter(tile_volumes[2]),\n",
    "            (0, 3): fine_registration.SyncAdapter(tile_volumes[3]),\n",
    "            (0, 4): fine_registration.SyncAdapter(tile_volumes[4]),\n",
    "            (0, 5): fine_registration.SyncAdapter(tile_volumes[5])}\n"
   ]
  },
  {
   "cell_type": "code",
   "execution_count": 4,
   "metadata": {},
   "outputs": [
    {
     "name": "stdout",
     "output_type": "stream",
     "text": [
      "(slice(None, None, None), slice(0, 3544, None), slice(280, 576, None), slice(0, 576, None))\n",
      "(slice(None, None, None), slice(0, 3544, None), slice(0, 296, None), slice(0, 576, None))\n",
      "(slice(None, None, None), slice(0, 3544, None), slice(280, 576, None), slice(0, 576, None))\n",
      "(slice(None, None, None), slice(0, 3544, None), slice(0, 296, None), slice(0, 576, None))\n",
      "(slice(None, None, None), slice(0, 3544, None), slice(280, 576, None), slice(0, 576, None))\n",
      "(slice(None, None, None), slice(0, 3544, None), slice(0, 296, None), slice(0, 576, None))\n",
      "(slice(None, None, None), slice(0, 3544, None), slice(280, 576, None), slice(0, 576, None))\n",
      "(slice(None, None, None), slice(0, 3544, None), slice(0, 296, None), slice(0, 576, None))\n",
      "(slice(None, None, None), slice(0, 3544, None), slice(280, 576, None), slice(0, 576, None))\n",
      "(slice(None, None, None), slice(0, 3544, None), slice(0, 296, None), slice(0, 576, None))\n"
     ]
    }
   ],
   "source": [
    "# Fine Registration, compute patch flows\n",
    "stride = 20, 20, 20\n",
    "tile_size_xyz = (576, 576, 3544)  # Yet it expects the tiles as 1zyx...\n",
    "flow_x, offsets_x = fine_registration.compute_flow_map3d(tile_map,\n",
    "                                                        tile_size_xyz, cx, axis=0,\n",
    "                                                        stride=stride,\n",
    "                                                        patch_size=(80, 80, 80))\n",
    "\n",
    "flow_y, offsets_y = fine_registration.compute_flow_map3d(tile_map,\n",
    "                                                        tile_size_xyz, cy, axis=1,\n",
    "                                                        stride=stride,\n",
    "                                                        patch_size=(80, 80, 80))\n",
    "\n",
    "np.savez_compressed('flow_results_6.npz', flow_x=flow_x, flow_y=flow_y, offsets_x=offsets_x, offsets_y=offsets_y)"
   ]
  },
  {
   "cell_type": "code",
   "execution_count": 5,
   "metadata": {},
   "outputs": [],
   "source": [
    "# Fine Registration, filter patch flows\n",
    "kwargs = {\"min_peak_ratio\": 1.4, \"min_peak_sharpness\": 1.4, \"max_deviation\": 5, \"max_magnitude\": 0, \"dim\": 3}\n",
    "fine_x = {k: flow_utils.clean_flow(v, **kwargs) for k, v in flow_x.items()}\n",
    "fine_y = {k: flow_utils.clean_flow(v, **kwargs) for k, v in flow_y.items()}\n",
    "\n",
    "kwargs = {\"min_patch_size\": 10, \"max_gradient\": -1, \"max_deviation\": -1}\n",
    "fine_x = {k: flow_utils.reconcile_flows([v], **kwargs) for k, v in fine_x.items()}\n",
    "fine_y = {k: flow_utils.reconcile_flows([v], **kwargs) for k, v in fine_y.items()}"
   ]
  },
  {
   "cell_type": "code",
   "execution_count": 6,
   "metadata": {},
   "outputs": [],
   "source": [
    "# Fine Registration, update mesh (convert coarse tile mesh into fine patch mesh)\n",
    "data_x = (cx[:, 0, ...], fine_x, offsets_x)\n",
    "data_y = (cy[:, 0, ...], fine_y, offsets_y)\n",
    "\n",
    "fx, fy, init_x, nbors, key_to_idx = stitch_elastic.aggregate_arrays(\n",
    "    data_x, data_y, list(tile_map.keys()),\n",
    "    coarse_mesh[:, 0, ...], stride=stride, tile_shape=tile_size_xyz[::-1])\n",
    "\n",
    "@jax.jit\n",
    "def prev_fn(x):\n",
    "  target_fn = ft.partial(stitch_elastic.compute_target_mesh, x=x, fx=fx, fy=fy, stride=stride)\n",
    "  x = jax.vmap(target_fn)(nbors)\n",
    "  return jnp.transpose(x, [1, 0, 2, 3, 4])\n",
    "\n",
    "config = mesh.IntegrationConfig(dt=0.001, gamma=0., k0=0.01, k=0.1, stride=stride,\n",
    "                                num_iters=1000, max_iters=20000, stop_v_max=0.001,\n",
    "                                dt_max=100, prefer_orig_order=False,\n",
    "                                start_cap=0.1, final_cap=10., remove_drift=True)\n",
    "\n",
    "x, ekin, t = mesh.relax_mesh(init_x, None, config, prev_fn=prev_fn, mesh_force=mesh.elastic_mesh_3d)\n",
    "\n",
    "np.savez_compressed('solved_mesh_st20_6.npz', x=x, key_to_idx=key_to_idx)  # This 'x' is the solved patch mesh(es)."
   ]
  }
 ],
 "metadata": {
  "kernelspec": {
   "display_name": "py311",
   "language": "python",
   "name": "python3"
  },
  "language_info": {
   "codemirror_mode": {
    "name": "ipython",
    "version": 3
   },
   "file_extension": ".py",
   "mimetype": "text/x-python",
   "name": "python",
   "nbconvert_exporter": "python",
   "pygments_lexer": "ipython3",
   "version": "3.11.3"
  },
  "orig_nbformat": 4
 },
 "nbformat": 4,
 "nbformat_minor": 2
}
