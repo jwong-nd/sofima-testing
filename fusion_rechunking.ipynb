{
 "cells": [
  {
   "cell_type": "code",
   "execution_count": 1,
   "metadata": {},
   "outputs": [],
   "source": [
    "import zarr_io\n",
    "import tensorstore as ts"
   ]
  },
  {
   "cell_type": "code",
   "execution_count": 8,
   "metadata": {},
   "outputs": [],
   "source": [
    "bucket = 'sofima-test-bucket'\n",
    "in_path = 'fused_6_y_offset.zarr'\n",
    "out_path = 'fused_6_y_offset_rechunked.zarr'\n",
    "fused = zarr_io.open_zarr(bucket, in_path)\n",
    "\n",
    "rechunked = ts.open({\n",
    "        'driver': 'zarr', \n",
    "        'dtype': 'uint16',\n",
    "        'kvstore' : {\n",
    "            'driver': 'gcs', \n",
    "            'bucket': bucket,\n",
    "        }, \n",
    "        'create': True,\n",
    "        'delete_existing': True, \n",
    "        'path': out_path, \n",
    "        'metadata': {\n",
    "        'chunks': [1, 1, 128, 128, 128],\n",
    "        'compressor': {\n",
    "          'blocksize': 0,\n",
    "          'clevel': 1,\n",
    "          'cname': 'zstd',\n",
    "          'id': 'blosc',\n",
    "          'shuffle': 1,\n",
    "        },\n",
    "        'dimension_separator': '/',\n",
    "        'dtype': '<u2',\n",
    "        'fill_value': 0,\n",
    "        'filters': None,\n",
    "        'order': 'C',\n",
    "        'shape': fused.shape,\n",
    "        'zarr_format': 2\n",
    "        }\n",
    "    }).result()"
   ]
  },
  {
   "cell_type": "code",
   "execution_count": 9,
   "metadata": {},
   "outputs": [],
   "source": [
    "rechunked[:,:,:,:,:].write(fused[:,:,:,:,:]).result()\n"
   ]
  }
 ],
 "metadata": {
  "kernelspec": {
   "display_name": "py311",
   "language": "python",
   "name": "python3"
  },
  "language_info": {
   "codemirror_mode": {
    "name": "ipython",
    "version": 3
   },
   "file_extension": ".py",
   "mimetype": "text/x-python",
   "name": "python",
   "nbconvert_exporter": "python",
   "pygments_lexer": "ipython3",
   "version": "3.11.3"
  },
  "orig_nbformat": 4
 },
 "nbformat": 4,
 "nbformat_minor": 2
}
