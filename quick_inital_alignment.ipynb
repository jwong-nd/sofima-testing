{
 "cells": [
  {
   "cell_type": "code",
   "execution_count": 2,
   "metadata": {},
   "outputs": [],
   "source": [
    "import numpy as np\n",
    "\n",
    "import ng_utils\n",
    "from sofima.zarr import zarr_io"
   ]
  },
  {
   "attachments": {},
   "cell_type": "markdown",
   "metadata": {},
   "source": [
    "Datasets to register: \n",
    "- diSPIM_685890_2023-06-29_14-39-56\n",
    "https://aind-neuroglancer-sauujisjxq-uw.a.run.app#!s3://aind-open-data/diSPIM_685890_2023-06-29_14-39-56/process_output.json\n",
    "\n",
    "- diSPIM_685890_2023-06-30_14-13-22\n",
    "https://aind-neuroglancer-sauujisjxq-uw.a.run.app#!s3://aind-open-data/diSPIM_685890_2023-06-30_14-13-22/process_output.json\n",
    "\n",
    "- diSPIM_685890_2023-07-04_12-50-25\n",
    "https://aind-neuroglancer-sauujisjxq-uw.a.run.app#!s3://aind-open-data/diSPIM_685890_2023-07-04_12-50-25/process_output.json\n",
    "\n",
    "Carson: \n",
    "- diSPIM_672347-ID_2023-07-13_14-58-59\n"
   ]
  },
  {
   "cell_type": "code",
   "execution_count": 15,
   "metadata": {},
   "outputs": [
    {
     "name": "stderr",
     "output_type": "stream",
     "text": [
      "WARNING:pint.util:Calling the getitem method from a UnitRegistry is deprecated. use `parse_expression` method or use the registry as a callable.\n",
      "WARNING:pint.util:Calling the getitem method from a UnitRegistry is deprecated. use `parse_expression` method or use the registry as a callable.\n",
      "WARNING:pint.util:Calling the getitem method from a UnitRegistry is deprecated. use `parse_expression` method or use the registry as a callable.\n",
      "WARNING:pint.util:Calling the getitem method from a UnitRegistry is deprecated. use `parse_expression` method or use the registry as a callable.\n"
     ]
    }
   ],
   "source": [
    "cloud_storage = zarr_io.CloudStorage.S3\n",
    "bucket = 'aind-open-data'\n",
    "dataset = 'diSPIM_672347-ID_2023-07-13_14-58-59'\n",
    "dataset_path = f'{dataset}/diSPIM.zarr'\n",
    "channel = 561\n",
    "downsample_exp = 0\n",
    "\n",
    "# These datasets are cam1 and axis flipped. \n",
    "zd = zarr_io.DiSpimDataset(cloud_storage, \n",
    "                        bucket, \n",
    "                        dataset_path, \n",
    "                        channel, \n",
    "                        downsample_exp, \n",
    "                        camera_num=1)\n",
    "\n",
    "# Pixel overlap offsets in highest resolution\n",
    "# We want to parse this from the metadata files eventually\n",
    "ty, tx = zd.tile_layout.shape\n",
    "mx, my, mz = zd.tile_size_xyz\n",
    "coarse_mesh = np.zeros((3, 1, ty, tx))\n",
    "x_overlap = 0.15\n",
    "y_overlap = 0.15\n",
    "for y in range(ty):\n",
    "    for x in range(tx):\n",
    "        if y > 0: \n",
    "            coarse_mesh[:, 0, y, x] += np.array([0, (my * y_overlap), 0])\n",
    "        if x > 0: \n",
    "            coarse_mesh[:, 0, y, x] += np.array([(mx * x_overlap), 0, 0])\n",
    "\n",
    "        # coarse_mesh[:, 0, y, x] = np.array([(mx * x_overlap), 0, 0]) + \\\n",
    "        #                           np.array([0, (my * y_overlap), 0])\n",
    "        coarse_mesh[:, 0, y, x] = zd.basis_change @ coarse_mesh[:, 0, y, x]\n",
    "\n",
    "# Generate neuroglancer link: \n",
    "# zd_list = [zd]\n",
    "# remaining_channels = list(set(zd.channels) - set([channel]))\n",
    "# for channel in remaining_channels: \n",
    "#     zd_list.append(zarr_io.DiSpimDataset(cloud_storage, \n",
    "#                                         bucket, \n",
    "#                                         dataset_path, \n",
    "#                                         channel, \n",
    "#                                         downsample_exp))\n",
    "# ng_utils.ng_link_multi_channel(zd_list, coarse_mesh, \n",
    "#                                max_dr=800, opacity=0.5)\n",
    "\n",
    "\n",
    "ng_utils.ng_link_single_channel(zd, coarse_mesh, \n",
    "                               max_dr=800, opacity=0.5)\n"
   ]
  },
  {
   "attachments": {},
   "cell_type": "markdown",
   "metadata": {},
   "source": [
    "Looks like data is cam1. \n"
   ]
  }
 ],
 "metadata": {
  "kernelspec": {
   "display_name": "py310",
   "language": "python",
   "name": "python3"
  },
  "language_info": {
   "codemirror_mode": {
    "name": "ipython",
    "version": 3
   },
   "file_extension": ".py",
   "mimetype": "text/x-python",
   "name": "python",
   "nbconvert_exporter": "python",
   "pygments_lexer": "ipython3",
   "version": "3.10.12"
  },
  "orig_nbformat": 4
 },
 "nbformat": 4,
 "nbformat_minor": 2
}
