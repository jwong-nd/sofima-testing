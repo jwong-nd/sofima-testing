{
 "cells": [
  {
   "attachments": {},
   "cell_type": "markdown",
   "metadata": {},
   "source": [
    "Copied from notebook, need to tweak data/variables for out data."
   ]
  },
  {
   "cell_type": "code",
   "execution_count": null,
   "metadata": {},
   "outputs": [],
   "source": [
    "from sofima.processor import warp\n",
    "import numpy as np\n",
    "import tensorstore as ts\n",
    "\n",
    "from connectomics.common import bounding_box\n",
    "from connectomics.common import box_generator\n",
    "from connectomics.volume import subvolume"
   ]
  },
  {
   "cell_type": "code",
   "execution_count": null,
   "metadata": {},
   "outputs": [],
   "source": [
    "# Prep renderer to read data\n",
    "\n",
    "GCS_BUCKET = 'TODO:YOUR_BUCKET'\n",
    "\n",
    "class SyncAdapter:\n",
    "  \"\"\"Makes it possible to use a TensorStore objects as a numpy array.\"\"\"\n",
    "  def __init__(self, tstore):\n",
    "    self.tstore = tstore\n",
    "\n",
    "  def __getitem__(self, ind):\n",
    "    return np.array(self.tstore[ind])\n",
    "\n",
    "  def __getattr__(self, attr):\n",
    "    return getattr(self.tstore, attr)\n",
    "\n",
    "  @property\n",
    "  def shape(self):\n",
    "    return self.tstore.shape\n",
    "\n",
    "  @property\n",
    "  def ndim(self):\n",
    "    return self.tstore.ndim\n",
    "\n",
    "\n",
    "class StitchAndRender3dTiles(warp.StitchAndRender3dTiles):\n",
    "\n",
    "  cache = {}\n",
    "\n",
    "  def _open_tile_volume(self, tile_id: int):\n",
    "    if tile_id in self.cache:\n",
    "      return self.cache[tile_id]\n",
    "\n",
    "    vol = ts.open({\n",
    "      'driver': 'n5',\n",
    "      'kvstore': {\n",
    "          'driver': 'gcs',\n",
    "          'bucket': GCS_BUCKET,\n",
    "      },\n",
    "      'path': self._tile_pattern_path.format(tile_id=tile_id)\n",
    "    }).result().T  # convert to zyx axis layout\n",
    "    self.cache[tile_id] = SyncAdapter(vol)\n",
    "    return self.cache[tile_id]"
   ]
  },
  {
   "cell_type": "code",
   "execution_count": null,
   "metadata": {},
   "outputs": [],
   "source": [
    "# Prep renderer inputs\n",
    "\n",
    "# +---> x\n",
    "# |\n",
    "# v y\n",
    "tile_layout = np.array([\n",
    "    [4, 5, 14, 15],\n",
    "    [3, 6, 13, 16],\n",
    "    [2, 7, 12, 17],\n",
    "    [1, 8, 11, 18],\n",
    "    [0, 9, 10, 19],\n",
    "])\n"
   ]
  },
  {
   "cell_type": "code",
   "execution_count": null,
   "metadata": {},
   "outputs": [],
   "source": [
    "# Prep output buffer\n",
    "\n",
    "ds_out = ts.open({\n",
    "  'driver': 'n5',\n",
    "  'kvstore': {\n",
    "      'driver': 'gcs',\n",
    "      'bucket': GCS_BUCKET,\n",
    "  },\n",
    "  'create': True,\n",
    "  'delete_existing': True,\n",
    "  'path': f'TODO:DATASET_PATH/stitched_st20',\n",
    "  'metadata': {\n",
    "    'compression': {'type': 'blosc', 'cname': 'lz4', 'clevel': 5, 'shuffle': 1},\n",
    "    'dataType': 'uint8',\n",
    "    'dimensions': [1590, 9740, 7650],\n",
    "    'blockSize': [128, 128, 128],\n",
    "    'axes': ['z', 'y', 'x'],\n",
    "    'resolution': [13,10,10],\n",
    "    'units': ['nm', 'nm', 'nm']\n",
    "  },\n",
    "}).result()"
   ]
  },
  {
   "cell_type": "code",
   "execution_count": null,
   "metadata": {},
   "outputs": [],
   "source": [
    "# Initialize the renderer\n",
    "\n",
    "renderer = StitchAndRender3dTiles(\n",
    "    tile_map=tile_layout,\n",
    "    tile_pattern_path='TODO:DATASET_PATH/{tile_id}_clahe',\n",
    "    tile_mesh_path='solved_meshes_init_cl_20_80.npz',\n",
    "    stride=(20, 20, 20),\n",
    "    offset=[-250, -380, 90],\n",
    "    parallelism=8\n",
    ")"
   ]
  },
  {
   "cell_type": "code",
   "execution_count": null,
   "metadata": {},
   "outputs": [],
   "source": [
    "# Call renderer.process on subvolumes solved meshes\n",
    "\n",
    "box = bounding_box.BoundingBox(start=(0,0,0), size=ds_out.shape[::-1])\n",
    "gen = box_generator.BoxGenerator(box, (512, 512, 512), (0, 0, 0), True)\n",
    "renderer.set_effective_subvol_and_overlap((512, 512, 512), (0, 0, 0))\n",
    "\n",
    "import time\n",
    "for i, sub_box in enumerate(gen.boxes):\n",
    "    t_start = time.time()\n",
    "    inp_subvol = subvolume.Subvolume(np.zeros(sub_box.size[::-1], dtype=np.uint8)[None, ...], sub_box)\n",
    "    ret_subvol = renderer.process(inp_subvol)\n",
    "    t_render = time.time()\n",
    "    ds_out[ret_subvol.bbox.to_slice3d()].write(ret_subvol.data[0, ...]).result()\n",
    "    t_write = time.time()\n",
    "    print('box {i}: {t1:0.2f} render  {t2:0.2f} write'.format(i=i, t1=t_render - t_start, t2=t_write - t_render))"
   ]
  }
 ],
 "metadata": {
  "language_info": {
   "name": "python"
  },
  "orig_nbformat": 4
 },
 "nbformat": 4,
 "nbformat_minor": 2
}
